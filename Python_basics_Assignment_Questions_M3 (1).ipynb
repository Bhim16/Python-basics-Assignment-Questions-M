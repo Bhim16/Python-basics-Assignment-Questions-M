{
  "nbformat": 4,
  "nbformat_minor": 0,
  "metadata": {
    "colab": {
      "provenance": []
    },
    "kernelspec": {
      "name": "python3",
      "display_name": "Python 3"
    },
    "language_info": {
      "name": "python"
    }
  },
  "cells": [
    {
      "cell_type": "markdown",
      "source": [
        "# Python Basics Questions"
      ],
      "metadata": {
        "id": "W6RKG_CX6uHa"
      }
    },
    {
      "cell_type": "markdown",
      "source": [
        "Q.1. What is Python, and why is it popular?\n",
        "\n",
        "ANS.Python is an interpreted, high-level, general-purpose programming language. It was created by Guido van Rossum and first released in 1991.\n",
        "\n",
        " *Why is it popular?*\n",
        "\n",
        "Python is a popular choice for data science and machine learning due to its extensive libraries and frameworks for data manipulation, analysis, and modeling.\n"
      ],
      "metadata": {
        "id": "GXU5Zb0667Tf"
      }
    },
    {
      "cell_type": "markdown",
      "source": [
        "Q.2 What is an interpreter in Python.\n",
        "\n",
        "ANS.  The Python interpreter is a program that reads and executes Python code line by line & translating it into machine-readable instructions for the computer to understand and run."
      ],
      "metadata": {
        "id": "QmP4GoRZ75Ph"
      }
    },
    {
      "cell_type": "markdown",
      "source": [
        "Q.3 What are pre-defined keywords in Python?\n",
        "\n",
        " ANS. Python are predefined reserved words with special meanings so the interpreter can understand them."
      ],
      "metadata": {
        "id": "cywUMLSY8bBQ"
      }
    },
    {
      "cell_type": "markdown",
      "source": [
        "Q.4. Can keywords be used as variable names.\n",
        "\n",
        "ANS. No keywords cannot be used as variable names in most programming languages because keywords have predefined meanings and are used to define the languages syntax.\n",
        "\n"
      ],
      "metadata": {
        "id": "ZiFINVj69L2Y"
      }
    },
    {
      "cell_type": "markdown",
      "source": [
        "Q.5. What is mutability in Python.\n",
        "\n",
        "ANS.  Mutability in python is modified  object after creation without creating a new object."
      ],
      "metadata": {
        "id": "liwRopF49sTz"
      }
    },
    {
      "cell_type": "markdown",
      "source": [
        "Q.6. Why are lists mutable, but tuples are immutable.\n",
        "\n",
        "ANS.List item can be change & modifide but  in tuples case cannot  be change & modifide any item."
      ],
      "metadata": {
        "id": "0r4fZzYn-aWm"
      }
    },
    {
      "cell_type": "markdown",
      "source": [
        "Q.7. What is the difference between “==” and “is” operators in Python.\n",
        "\n",
        " ANS. \"==\" is a equality operator. it is Compares the values of two objects.returns True if the objects have the same value and False otherwise.\n",
        "\n",
        "\"is\" is a identity operator.it is Checks if two variables refer to the same object in memory.returns True if both variables point to the same object and False otherwise."
      ],
      "metadata": {
        "id": "sT21SeIQ_Qwq"
      }
    },
    {
      "cell_type": "markdown",
      "source": [
        "Q.8.What are logical operators in Python.\n",
        "\n",
        "ANS.  The logical operators in Python combine two and more operands or conduct logical comparisons on them. There are three types i.e. AND, OR, and NOT. They return a boolean value, i.e. True or False."
      ],
      "metadata": {
        "id": "6_UqyL0ZA-VO"
      }
    },
    {
      "cell_type": "markdown",
      "source": [
        "Q.9.What is type casting in Python.\n",
        "\n",
        "ANS.The process of converting a variable data type to another allowing for flexible operations and data manipulation."
      ],
      "metadata": {
        "id": "GcK9wAoWBm7H"
      }
    },
    {
      "cell_type": "markdown",
      "source": [
        "Q.10.What is the difference between implicit and explicit type casting.\n",
        "\n",
        "ANS. The implicit type casting is automatically converts data from one type to another type data.in explicit type casting is convert the data manually."
      ],
      "metadata": {
        "id": "YVoTjWDfCK1z"
      }
    },
    {
      "cell_type": "markdown",
      "source": [
        "Q.11.What is the purpose of conditional statements in Python.\n",
        "\n",
        "ANS. The purpose of conditional statements  is making decision  with in a program. They allow you to execute different blocks of code based on specific conditions."
      ],
      "metadata": {
        "id": "eqocleFqEbB2"
      }
    },
    {
      "cell_type": "markdown",
      "source": [
        "Q.12.How does the elif statement work.\n",
        "\n",
        "ANS. The elif statement is conditional statements to check for multiple conditions. if the first condition is false it moves on to the next “elif” statement to check if that condition is true."
      ],
      "metadata": {
        "id": "l0lb3dIrFe0e"
      }
    },
    {
      "cell_type": "markdown",
      "source": [
        "Q.13.What is the difference between for and while loops.\n",
        "\n",
        "ANS.for loops is the number of iterations before hand while.\n",
        " while loops is the number of iterations depends on a dynamic condition."
      ],
      "metadata": {
        "id": "Nh35s11wGEXa"
      }
    },
    {
      "cell_type": "markdown",
      "source": [
        "Q.14.Describe a scenario where a while loop is more suitable than a for loop.\n",
        "\n",
        " ANS. For loop  is generally used when the number of iterations is known before hand a. while loop is ideal for situations where the number of iterations is not predetermined and depends on some dynamic condition."
      ],
      "metadata": {
        "id": "4PdH-QVSImPG"
      }
    },
    {
      "cell_type": "code",
      "source": [
        "# Q.1 Write a Python program to print \"Hello, World!\n",
        "print(\"hello,world\")"
      ],
      "metadata": {
        "colab": {
          "base_uri": "https://localhost:8080/"
        },
        "id": "hcHMxa3CN-eG",
        "outputId": "66d5e356-f725-4843-d5fc-df9cc62002db"
      },
      "execution_count": null,
      "outputs": [
        {
          "output_type": "stream",
          "name": "stdout",
          "text": [
            "hello,world\n"
          ]
        }
      ]
    },
    {
      "cell_type": "code",
      "source": [
        "# Q.2 Write a Python program that displays your name and age.\n",
        "name = \"bhim vishal\"\n",
        "age = 30\n",
        "\n",
        "print(\"My name is\", name, \"and I am\", age, \"years old.\")\n"
      ],
      "metadata": {
        "colab": {
          "base_uri": "https://localhost:8080/"
        },
        "id": "3VX8t5WgJGZe",
        "outputId": "a0536259-6568-4e0e-b361-c643e19b959f"
      },
      "execution_count": null,
      "outputs": [
        {
          "output_type": "stream",
          "name": "stdout",
          "text": [
            "My name is bhim vishal and I am 30 years old.\n"
          ]
        }
      ]
    },
    {
      "cell_type": "code",
      "source": [
        "#Q.3 Write code to print all the pre-defined keywords in Python using the keyword library\n",
        "\n",
        "import keyword\n",
        "\n",
        "keyword.kwlist"
      ],
      "metadata": {
        "colab": {
          "base_uri": "https://localhost:8080/"
        },
        "id": "8IMFIeeJKnnG",
        "outputId": "6d28e323-96b3-4802-b4f8-8855006a88e8"
      },
      "execution_count": null,
      "outputs": [
        {
          "output_type": "execute_result",
          "data": {
            "text/plain": [
              "['False',\n",
              " 'None',\n",
              " 'True',\n",
              " 'and',\n",
              " 'as',\n",
              " 'assert',\n",
              " 'async',\n",
              " 'await',\n",
              " 'break',\n",
              " 'class',\n",
              " 'continue',\n",
              " 'def',\n",
              " 'del',\n",
              " 'elif',\n",
              " 'else',\n",
              " 'except',\n",
              " 'finally',\n",
              " 'for',\n",
              " 'from',\n",
              " 'global',\n",
              " 'if',\n",
              " 'import',\n",
              " 'in',\n",
              " 'is',\n",
              " 'lambda',\n",
              " 'nonlocal',\n",
              " 'not',\n",
              " 'or',\n",
              " 'pass',\n",
              " 'raise',\n",
              " 'return',\n",
              " 'try',\n",
              " 'while',\n",
              " 'with',\n",
              " 'yield']"
            ]
          },
          "metadata": {},
          "execution_count": 12
        }
      ]
    },
    {
      "cell_type": "code",
      "source": [
        "#Q.4.Write a program that checks if a given word is a Python keyword.\n",
        "name = input(\"enter your name\")\n",
        "email = input(\"enter your email\")\n",
        "password = input(\"enter your password\")\n",
        "\n",
        "if name ==\"\":\n",
        "  print(\"enter a valid name, can not be empty\")\n",
        "else:\n",
        "  if email ==\"\":\n",
        "    print(\"enter a valid email, can not be empty\")\n",
        "  else:\n",
        "    if password ==\"\":\n",
        "      print(\"enter a valid password, can not be empty\")\n"
      ],
      "metadata": {
        "id": "rIT-iTK0LR1y"
      },
      "execution_count": null,
      "outputs": []
    },
    {
      "cell_type": "code",
      "source": [
        "# Q.5 Create a list and tuple in Python, and demonstrate how attempting to change an element works differently\n",
        "#for each.\n",
        "\n",
        "list = [1, 2, 3, 4, 5]\n",
        "list[0] = 10\n",
        "\n",
        "print(\"change list:\", list)\n"
      ],
      "metadata": {
        "colab": {
          "base_uri": "https://localhost:8080/"
        },
        "id": "dxrvo79bN8ol",
        "outputId": "955c3e77-ce5f-4cb1-8cb0-defb541bb3ba"
      },
      "execution_count": null,
      "outputs": [
        {
          "output_type": "stream",
          "name": "stdout",
          "text": [
            "change list: [10, 2, 3, 4, 5]\n"
          ]
        }
      ]
    },
    {
      "cell_type": "code",
      "source": [
        "#Q.6.Write a function to demonstrate the behavior of mutable and immutable arguments.\n",
        "\n",
        "def demonstrate_mutability(mutable_arg, immutable_arg):\n",
        "\n",
        "\n",
        "    print(\"Inside the function:\")\n",
        "    mutable_arg.append(4)\n",
        "    immutable_arg += 1\n",
        "\n",
        "    print(\"Mutable argument inside function:\", mutable_arg)\n",
        "    print(\"Immutable argument inside function:\", immutable_arg)\n",
        "\n",
        "\n",
        "my_list = [1, 2, 3]\n",
        "my_number = 10\n",
        "\n",
        "print(\"Before calling the function:\")\n",
        "print(\"Mutable argument:\", my_list)\n",
        "print(\"Immutable argument:\", my_number)\n",
        "\n",
        "demonstrate_mutability(my_list, my_number)\n",
        "\n",
        "print(\"\\nAfter calling the function:\")\n",
        "print(\"Mutable argument:\", my_list)\n",
        "print(\"Immutable argument:\", my_number)\n",
        "\n"
      ],
      "metadata": {
        "id": "vZfpAuEIPXBG",
        "colab": {
          "base_uri": "https://localhost:8080/"
        },
        "outputId": "d48db0a7-c472-4fbd-a723-53ab864e036a"
      },
      "execution_count": null,
      "outputs": [
        {
          "output_type": "stream",
          "name": "stdout",
          "text": [
            "Before calling the function:\n",
            "Mutable argument: [1, 2, 3]\n",
            "Immutable argument: 10\n",
            "Inside the function:\n",
            "Mutable argument inside function: [1, 2, 3, 4]\n",
            "Immutable argument inside function: 11\n",
            "\n",
            "After calling the function:\n",
            "Mutable argument: [1, 2, 3, 4]\n",
            "Immutable argument: 10\n"
          ]
        }
      ]
    },
    {
      "cell_type": "code",
      "source": [
        "#Q.7 Write a Python program to calculate the factorial of a number provided by the user using a while loop.\n"
      ],
      "metadata": {
        "id": "F8CgmHFHRlYU"
      },
      "execution_count": null,
      "outputs": []
    },
    {
      "cell_type": "code",
      "source": [
        "#Q.7Write a Python program to calculate the factorial of a number provided by the user using a while loop\n",
        "\n",
        "def factorial_while(n):\n",
        "\n",
        "  if n < 0:\n",
        "    return \"Factorial is not defined for negative numbers.\"\n",
        "  elif n == 0:\n",
        "    return 1\n",
        "  else:\n",
        "    factorial = 1\n",
        "    i = 1\n",
        "    while i <= n:\n",
        "      factorial *= i\n",
        "      i += 1\n",
        "    return factorial\n",
        "\n",
        "\n",
        "num = int(input(\"Enter a non-negative integer: \"))\n",
        "\n",
        "\n",
        "result = factorial_while(num)\n",
        "print(f\"The factorial of {num} is {result}\")\n"
      ],
      "metadata": {
        "id": "HX6mk6C4hgER"
      },
      "execution_count": null,
      "outputs": []
    },
    {
      "cell_type": "code",
      "source": [
        "#Q.8 Write a function to demonstrate the behavior of mutable and immutable arguments\n",
        "def demonstrate_mutability(mutable_arg, immutable_arg):\n",
        "\n",
        "\n",
        "    print(\"Inside the function:\")\n",
        "    mutable_arg.append(4)\n",
        "    immutable_arg += 1\n",
        "\n",
        "    print(\"Mutable argument inside function:\", mutable_arg)\n",
        "    print(\"Immutable argument inside function:\", immutable_arg)\n",
        "\n",
        "\n",
        "my_list = [1, 2, 3]\n",
        "my_number = 10\n",
        "\n",
        "print(\"Before calling the function:\")\n",
        "print(\"Mutable argument:\", my_list)\n",
        "print(\"Immutable argument:\", my_number)\n",
        "\n",
        "demonstrate_mutability(my_list, my_number)\n",
        "\n",
        "print(\"\\nAfter calling the function:\")\n",
        "print(\"Mutable argument:\", my_list)\n",
        "print(\"Immutable argument:\", my_number)\n"
      ],
      "metadata": {
        "id": "woe5jyFMRlU8"
      },
      "execution_count": null,
      "outputs": []
    },
    {
      "cell_type": "code",
      "source": [
        "#Q.9Write a program to demonstrate the use of logical operators\n",
        "a, b, c = True, False, True\n",
        "\n",
        "if a and c:\n",
        "    print(\"Both a and c are True (AND condition).\")\n",
        "\n",
        "if b or c:\n",
        "    print(\"Either b or c is True (OR condition).\")\n",
        "\n",
        "if not b:\n",
        "      print(\"b is False (NOT condition).\")\n"
      ],
      "metadata": {
        "id": "SBZ2SMAeRlSd",
        "colab": {
          "base_uri": "https://localhost:8080/"
        },
        "outputId": "df431d22-cb61-402c-e740-cfd8e9c016c9"
      },
      "execution_count": null,
      "outputs": [
        {
          "output_type": "stream",
          "name": "stdout",
          "text": [
            "Both a and c are True (AND condition).\n",
            "Either b or c is True (OR condition).\n",
            "b is False (NOT condition).\n"
          ]
        }
      ]
    },
    {
      "cell_type": "code",
      "source": [
        "#Q.10Write a Python program to convert user input from string to integer, float, and boolean types.\n",
        "#str to int convert\n",
        "10 ==\"pw\"\n",
        "b = int(10)\n",
        "print(b)\n",
        "print(type(10))\n",
        "\n",
        "\n"
      ],
      "metadata": {
        "id": "wr0_dLZsRlP1",
        "colab": {
          "base_uri": "https://localhost:8080/"
        },
        "outputId": "8fea1626-4cc6-4ee2-e247-73a29cb8aa57"
      },
      "execution_count": null,
      "outputs": [
        {
          "output_type": "stream",
          "name": "stdout",
          "text": [
            "10\n",
            "<class 'int'>\n"
          ]
        }
      ]
    },
    {
      "cell_type": "code",
      "source": [
        "#str to float  Convert\n",
        "9.4 ==\"pw\"\n",
        "b = float(9.4)\n",
        "print(b)\n",
        "print(type(9.4))"
      ],
      "metadata": {
        "colab": {
          "base_uri": "https://localhost:8080/"
        },
        "id": "ojT_xGbEXGEM",
        "outputId": "6ea51cde-9196-4325-879c-0af761da0c97"
      },
      "execution_count": null,
      "outputs": [
        {
          "output_type": "stream",
          "name": "stdout",
          "text": [
            "9.4\n",
            "<class 'float'>\n"
          ]
        }
      ]
    },
    {
      "cell_type": "code",
      "source": [
        "\n",
        "# Convert string to boolean using eval\n",
        "v = \"True\"\n",
        "\n",
        "boolean_value = eval(v)\n",
        "\n",
        "print(boolean_value)"
      ],
      "metadata": {
        "colab": {
          "base_uri": "https://localhost:8080/"
        },
        "id": "zfn-FXU0XXm0",
        "outputId": "53abc0ff-1045-4a42-e00f-f61b1eadc6d8"
      },
      "execution_count": null,
      "outputs": [
        {
          "output_type": "stream",
          "name": "stdout",
          "text": [
            "True\n"
          ]
        }
      ]
    },
    {
      "cell_type": "code",
      "source": [
        "#Q.11 Write code to demonstrate type casting with list elements\n",
        "\n",
        "my_list = [10, \"20\", 30.5, \"40.7\"]\n",
        "\n",
        "int_val = int(my_list[1])\n",
        "float_val = float(my_list[0])\n",
        "str_val = str(my_list[2])\n",
        "\n",
        "\n",
        "print(f\"Original list: {my_list}\")\n",
        "print(f\"Integer value: {int_val}, Type: {type(int_val)}\")\n",
        "print(f\"Float value: {float_val}, Type: {type(float_val)}\")\n",
        "print(f\"String value: {str_val}, Type: {type(str_val)}\")\n",
        "\n",
        "\n"
      ],
      "metadata": {
        "id": "U8WsUmpwRlNP",
        "colab": {
          "base_uri": "https://localhost:8080/"
        },
        "outputId": "48f2a022-8458-49b3-d71d-e86cbd19331b"
      },
      "execution_count": null,
      "outputs": [
        {
          "output_type": "stream",
          "name": "stdout",
          "text": [
            "Original list: [10, '20', 30.5, '40.7']\n",
            "Integer value: 20, Type: <class 'int'>\n",
            "Float value: 10.0, Type: <class 'float'>\n",
            "String value: 30.5, Type: <class 'str'>\n"
          ]
        }
      ]
    },
    {
      "cell_type": "code",
      "source": [
        "#Q.12 Write a program that checks if a number is positive, negative, or zero\n",
        "\n",
        "\n",
        "def check_number(number):\n",
        "    if number > 0:\n",
        "        return \"Positive\"\n",
        "    elif number < 0:\n",
        "        return \"Negative\"\n",
        "    else:\n",
        "        return \"Zero\"\n",
        "\n",
        "\n",
        "print(check_number(10))\n",
        "print(check_number(-5))\n",
        "print(check_number(0))"
      ],
      "metadata": {
        "id": "kKaNreCoRlKW",
        "colab": {
          "base_uri": "https://localhost:8080/"
        },
        "outputId": "b606ae61-1c37-4f4b-8757-7a3637ad7697"
      },
      "execution_count": null,
      "outputs": [
        {
          "output_type": "stream",
          "name": "stdout",
          "text": [
            "Positive\n",
            "Negative\n",
            "Zero\n"
          ]
        }
      ]
    },
    {
      "cell_type": "code",
      "source": [
        "#Q.13 Write a for loop to print numbers from 1 to 100\n",
        "\n",
        "for i in range(1, 101):\n",
        "  print(i)"
      ],
      "metadata": {
        "id": "QgqyCNiqRlHf",
        "colab": {
          "base_uri": "https://localhost:8080/"
        },
        "outputId": "261fe33d-74ed-4838-e148-3bd3f62e0c28"
      },
      "execution_count": null,
      "outputs": [
        {
          "output_type": "stream",
          "name": "stdout",
          "text": [
            "1\n",
            "2\n",
            "3\n",
            "4\n",
            "5\n",
            "6\n",
            "7\n",
            "8\n",
            "9\n",
            "10\n",
            "11\n",
            "12\n",
            "13\n",
            "14\n",
            "15\n",
            "16\n",
            "17\n",
            "18\n",
            "19\n",
            "20\n",
            "21\n",
            "22\n",
            "23\n",
            "24\n",
            "25\n",
            "26\n",
            "27\n",
            "28\n",
            "29\n",
            "30\n",
            "31\n",
            "32\n",
            "33\n",
            "34\n",
            "35\n",
            "36\n",
            "37\n",
            "38\n",
            "39\n",
            "40\n",
            "41\n",
            "42\n",
            "43\n",
            "44\n",
            "45\n",
            "46\n",
            "47\n",
            "48\n",
            "49\n",
            "50\n",
            "51\n",
            "52\n",
            "53\n",
            "54\n",
            "55\n",
            "56\n",
            "57\n",
            "58\n",
            "59\n",
            "60\n",
            "61\n",
            "62\n",
            "63\n",
            "64\n",
            "65\n",
            "66\n",
            "67\n",
            "68\n",
            "69\n",
            "70\n",
            "71\n",
            "72\n",
            "73\n",
            "74\n",
            "75\n",
            "76\n",
            "77\n",
            "78\n",
            "79\n",
            "80\n",
            "81\n",
            "82\n",
            "83\n",
            "84\n",
            "85\n",
            "86\n",
            "87\n",
            "88\n",
            "89\n",
            "90\n",
            "91\n",
            "92\n",
            "93\n",
            "94\n",
            "95\n",
            "96\n",
            "97\n",
            "98\n",
            "99\n",
            "100\n"
          ]
        }
      ]
    },
    {
      "cell_type": "code",
      "source": [
        "#Q.14 Write a Python program to find the sum of all even numbers between 1 and 50\n",
        "sum_of_evens = 0\n",
        "for i in range(6, 54, 4):\n",
        "  sum_of_evens += i\n",
        "\n",
        "print(f\"The sum of all even numbers between 1 and 50 is: {sum_of_evens}\")\n"
      ],
      "metadata": {
        "id": "XwuLpoA9RlCN",
        "colab": {
          "base_uri": "https://localhost:8080/"
        },
        "outputId": "959ada8e-ec90-4742-9d51-6061f8ed26f4"
      },
      "execution_count": null,
      "outputs": [
        {
          "output_type": "stream",
          "name": "stdout",
          "text": [
            "The sum of all even numbers between 1 and 50 is: 336\n"
          ]
        }
      ]
    },
    {
      "cell_type": "code",
      "source": [
        "#Q.15 Write a program to reverse a string using a while loop\n",
        "\n",
        "def reverse_string_while(input_string):\n",
        "    reversed_string = \"\"\n",
        "    index = len(input_string) - 1\n",
        "    while index >= 0:\n",
        "        reversed_string += input_string[index]\n",
        "        index -= 1\n",
        "    return reversed_string\n",
        "\n",
        "\n",
        "    string_to_reverse = \"yh\"\n",
        "reversed_string = reverse_string_while(string_to_reverse)\n",
        "print(f\"Reversed string: {reversed_string}\")"
      ],
      "metadata": {
        "id": "mTo6cnaCRkwL",
        "colab": {
          "base_uri": "https://localhost:8080/"
        },
        "outputId": "9da4fdbb-a0b8-4426-d127-0c7153926602"
      },
      "execution_count": null,
      "outputs": [
        {
          "output_type": "stream",
          "name": "stdout",
          "text": [
            "Reversed string: yh\n"
          ]
        }
      ]
    }
  ]
}